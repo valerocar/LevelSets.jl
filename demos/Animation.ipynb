{
 "cells": [
  {
   "cell_type": "code",
   "execution_count": 1,
   "metadata": {},
   "outputs": [
    {
     "name": "stderr",
     "output_type": "stream",
     "text": [
      "\u001b[32m\u001b[1m Activating\u001b[22m\u001b[39m environment at `~/Dropbox/MyProjects/LevelSets.jl/demos/Project.toml`\n",
      "WARNING: using MeshCat.Mesh in module Main conflicts with an existing identifier.\n"
     ]
    }
   ],
   "source": [
    "using Pkg\n",
    "Pkg.activate(@__DIR__)\n",
    "#Pkg.instantiate()\n",
    "include(\"graphics.jl\")\n",
    "\n",
    "using MeshCat\n",
    "using LevelSets"
   ]
  },
  {
   "cell_type": "code",
   "execution_count": 2,
   "metadata": {},
   "outputs": [
    {
     "name": "stderr",
     "output_type": "stream",
     "text": [
      "┌ Info: MeshCat server started. You can open the visualizer by visiting the following URL in your browser:\n",
      "│ http://127.0.0.1:8706\n",
      "└ @ MeshCat /home/valeroc/.julia/packages/MeshCat/DjQfQ/src/visualizer.jl:73\n"
     ]
    },
    {
     "data": {
      "text/html": [
       "    <div style=\"height: 500px; width: 100%; overflow-x: auto; overflow-y: hidden; resize: both\">\n",
       "    <iframe src=\"http://127.0.0.1:8706\" style=\"width: 100%; height: 100%; border: none\"></iframe>\n",
       "    </div>\n"
      ],
      "text/plain": [
       "MeshCat.DisplayedVisualizer(MeshCat.CoreVisualizer(MeshCat.SceneTrees.SceneNode(nothing, nothing, Dict{String,Array{UInt8,1}}(), nothing, Dict{String,MeshCat.SceneTrees.SceneNode}()), Set{Any}(), ip\"127.0.0.1\", 8706))"
      ]
     },
     "execution_count": 2,
     "metadata": {},
     "output_type": "execute_result"
    }
   ],
   "source": [
    "## Visualizer stuff\n",
    "vis = Visualizer()\n",
    "render(vis)"
   ]
  },
  {
   "cell_type": "code",
   "execution_count": 6,
   "metadata": {},
   "outputs": [],
   "source": [
    "## Grid stuff\n",
    "ps, vs, es, fs = regulargrid2d([-2,-2,2,2],[150,150])\n",
    "g(x,y) = x^2-y^2+ sin(6x*y)+cos(10x*y)\n",
    "x,y,z = get_coords(ps)\n",
    "vals = g.(x,y)\n",
    "level = .5\n",
    "\n",
    "lmin = -4.0\n",
    "lmax = 4.0\n",
    "lres = 250\n",
    "es = levelcurve(ps, fs, vals, lmin)\n",
    "\n",
    "for (frame,l) in enumerate(LinRange(lmin,lmax,lres))\n",
    "    es_ps = levelcurve(ps, fs, vals, l)\n",
    "    setobject!(vis[:level],edges3d(es_ps,linewidth=2))\n",
    "end"
   ]
  },
  {
   "cell_type": "code",
   "execution_count": null,
   "metadata": {},
   "outputs": [],
   "source": []
  }
 ],
 "metadata": {
  "kernelspec": {
   "display_name": "Julia 1.5.3",
   "language": "julia",
   "name": "julia-1.5"
  },
  "language_info": {
   "file_extension": ".jl",
   "mimetype": "application/julia",
   "name": "julia",
   "version": "1.5.3"
  }
 },
 "nbformat": 4,
 "nbformat_minor": 4
}
