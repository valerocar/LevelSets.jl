{
 "cells": [
  {
   "cell_type": "markdown",
   "metadata": {},
   "source": [
    "# Level Curves on a Surface"
   ]
  },
  {
   "cell_type": "code",
   "execution_count": 1,
   "metadata": {},
   "outputs": [
    {
     "name": "stderr",
     "output_type": "stream",
     "text": [
      "\u001b[32m\u001b[1m Activating\u001b[22m\u001b[39m environment at `~/Dropbox/MyProjects/LevelSets.jl/demos/Project.toml`\n",
      "WARNING: using MeshCat.Mesh in module Main conflicts with an existing identifier.\n"
     ]
    }
   ],
   "source": [
    "using Pkg\n",
    "Pkg.activate(@__DIR__)\n",
    "Pkg.instantiate()\n",
    "include(\"graphics.jl\")\n",
    "\n",
    "using MeshCat\n",
    "using LevelSets\n",
    "using DelimitedFiles"
   ]
  },
  {
   "cell_type": "markdown",
   "metadata": {},
   "source": [
    "# Initialization code"
   ]
  },
  {
   "cell_type": "code",
   "execution_count": 2,
   "metadata": {},
   "outputs": [
    {
     "name": "stdout",
     "output_type": "stream",
     "text": [
      "The mesh has 8960 vertices in 3-dimensional space and 17404 triangles"
     ]
    },
    {
     "name": "stderr",
     "output_type": "stream",
     "text": [
      "┌ Info: MeshCat server started. You can open the visualizer by visiting the following URL in your browser:\n",
      "│ http://127.0.0.1:8700\n",
      "└ @ MeshCat /home/valeroc/.julia/packages/MeshCat/DjQfQ/src/visualizer.jl:73\n"
     ]
    },
    {
     "data": {
      "text/plain": [
       "MeshCat Visualizer with path /meshcat at http://127.0.0.1:8700"
      ]
     },
     "execution_count": 2,
     "metadata": {},
     "output_type": "execute_result"
    }
   ],
   "source": [
    "# Data files\n",
    "data_dir = string(@__DIR__,\"/mesh2d/\")\n",
    "coords_file = string(data_dir,\"coords.txt\")\n",
    "faces_file = string(data_dir,\"faces.txt\")\n",
    "\n",
    "# Reading data\n",
    "ps = readdlm(coords_file, ',') # The points of the mesh\n",
    "ts = readdlm(faces_file, ',', Int);  # The faces of the mesh are triangles\n",
    "\n",
    "# Print mesh data\n",
    "print(\"The mesh has \",size(ps,1),\" vertices in \", size(ps,2),\"-dimensional space\")\n",
    "print(\" and \",size(ts,1),\" triangles\")\n",
    "\n",
    "vis = Visualizer() # Create visulizer to render result"
   ]
  },
  {
   "cell_type": "markdown",
   "metadata": {},
   "source": [
    "# Adding mesh to visualizer"
   ]
  },
  {
   "cell_type": "code",
   "execution_count": 3,
   "metadata": {},
   "outputs": [
    {
     "data": {
      "text/plain": [
       "MeshCat Visualizer with path /meshcat/mesh3d at http://127.0.0.1:8700"
      ]
     },
     "execution_count": 3,
     "metadata": {},
     "output_type": "execute_result"
    }
   ],
   "source": [
    "## Adding loaded mesh \n",
    "\n",
    "meshG = mesh3d(ps,ts) # Mesh graphics \n",
    "material = MeshLambertMaterial(color=RGBA{Float32}(0.0, .7, 0.8, 1.0))\n",
    "setobject!(vis[\"mesh3d\"], meshG , material)"
   ]
  },
  {
   "cell_type": "markdown",
   "metadata": {},
   "source": [
    "# Adding level curves"
   ]
  },
  {
   "cell_type": "code",
   "execution_count": 7,
   "metadata": {},
   "outputs": [
    {
     "data": {
      "text/html": [
       "    <div style=\"height: 500px; width: 100%; overflow-x: auto; overflow-y: hidden; resize: both\">\n",
       "    <iframe src=\"http://127.0.0.1:8700\" style=\"width: 100%; height: 100%; border: none\"></iframe>\n",
       "    </div>\n"
      ],
      "text/plain": [
       "MeshCat.DisplayedVisualizer(MeshCat.CoreVisualizer(MeshCat.SceneTrees.SceneNode(nothing, nothing, Dict{String,Array{UInt8,1}}(), nothing, Dict{String,MeshCat.SceneTrees.SceneNode}(\"meshcat\" => MeshCat.SceneTrees.SceneNode(nothing, nothing, Dict{String,Array{UInt8,1}}(), nothing, Dict{String,MeshCat.SceneTrees.SceneNode}(\"mesh3d\" => MeshCat.SceneTrees.SceneNode(UInt8[0x83, 0xa6, 0x6f, 0x62, 0x6a, 0x65, 0x63, 0x74, 0x84, 0xaa  …  0x63, 0x61, 0x74, 0x2f, 0x6d, 0x65, 0x73, 0x68, 0x33, 0x64], nothing, Dict{String,Array{UInt8,1}}(), nothing, Dict{String,MeshCat.SceneTrees.SceneNode}()),\"m2dG\" => MeshCat.SceneTrees.SceneNode(nothing, nothing, Dict{String,Array{UInt8,1}}(), nothing, Dict{String,MeshCat.SceneTrees.SceneNode}(\"levels\" => MeshCat.SceneTrees.SceneNode(nothing, nothing, Dict{String,Array{UInt8,1}}(), nothing, Dict{String,MeshCat.SceneTrees.SceneNode}(\"level8.0\" => MeshCat.SceneTrees.SceneNode(UInt8[0x83, 0xa6, 0x6f, 0x62, 0x6a, 0x65, 0x63, 0x74, 0x84, 0xaa  …  0x73, 0x2f, 0x6c, 0x65, 0x76, 0x65, 0x6c, 0x38, 0x2e, 0x30], nothing, Dict{String,Array{UInt8,1}}(), nothing, Dict{String,MeshCat.SceneTrees.SceneNode}()),\"level5.0\" => MeshCat.SceneTrees.SceneNode(UInt8[0x83, 0xa6, 0x6f, 0x62, 0x6a, 0x65, 0x63, 0x74, 0x84, 0xaa  …  0x73, 0x2f, 0x6c, 0x65, 0x76, 0x65, 0x6c, 0x35, 0x2e, 0x30], nothing, Dict{String,Array{UInt8,1}}(), nothing, Dict{String,MeshCat.SceneTrees.SceneNode}()),\"level15.0\" => MeshCat.SceneTrees.SceneNode(UInt8[0x83, 0xa6, 0x6f, 0x62, 0x6a, 0x65, 0x63, 0x74, 0x84, 0xaa  …  0x2f, 0x6c, 0x65, 0x76, 0x65, 0x6c, 0x31, 0x35, 0x2e, 0x30], nothing, Dict{String,Array{UInt8,1}}(), nothing, Dict{String,MeshCat.SceneTrees.SceneNode}()),\"level4.0\" => MeshCat.SceneTrees.SceneNode(UInt8[0x83, 0xa6, 0x6f, 0x62, 0x6a, 0x65, 0x63, 0x74, 0x84, 0xaa  …  0x73, 0x2f, 0x6c, 0x65, 0x76, 0x65, 0x6c, 0x34, 0x2e, 0x30], nothing, Dict{String,Array{UInt8,1}}(), nothing, Dict{String,MeshCat.SceneTrees.SceneNode}()),\"level12.0\" => MeshCat.SceneTrees.SceneNode(UInt8[0x83, 0xa6, 0x6f, 0x62, 0x6a, 0x65, 0x63, 0x74, 0x84, 0xaa  …  0x2f, 0x6c, 0x65, 0x76, 0x65, 0x6c, 0x31, 0x32, 0x2e, 0x30], nothing, Dict{String,Array{UInt8,1}}(), nothing, Dict{String,MeshCat.SceneTrees.SceneNode}()),\"level2.0\" => MeshCat.SceneTrees.SceneNode(UInt8[0x83, 0xa6, 0x6f, 0x62, 0x6a, 0x65, 0x63, 0x74, 0x84, 0xaa  …  0x73, 0x2f, 0x6c, 0x65, 0x76, 0x65, 0x6c, 0x32, 0x2e, 0x30], nothing, Dict{String,Array{UInt8,1}}(), nothing, Dict{String,MeshCat.SceneTrees.SceneNode}()),\"level9.0\" => MeshCat.SceneTrees.SceneNode(UInt8[0x83, 0xa6, 0x6f, 0x62, 0x6a, 0x65, 0x63, 0x74, 0x84, 0xaa  …  0x73, 0x2f, 0x6c, 0x65, 0x76, 0x65, 0x6c, 0x39, 0x2e, 0x30], nothing, Dict{String,Array{UInt8,1}}(), nothing, Dict{String,MeshCat.SceneTrees.SceneNode}()),\"level10.0\" => MeshCat.SceneTrees.SceneNode(UInt8[0x83, 0xa6, 0x6f, 0x62, 0x6a, 0x65, 0x63, 0x74, 0x84, 0xaa  …  0x2f, 0x6c, 0x65, 0x76, 0x65, 0x6c, 0x31, 0x30, 0x2e, 0x30], nothing, Dict{String,Array{UInt8,1}}(), nothing, Dict{String,MeshCat.SceneTrees.SceneNode}()),\"level3.0\" => MeshCat.SceneTrees.SceneNode(UInt8[0x83, 0xa6, 0x6f, 0x62, 0x6a, 0x65, 0x63, 0x74, 0x84, 0xaa  …  0x73, 0x2f, 0x6c, 0x65, 0x76, 0x65, 0x6c, 0x33, 0x2e, 0x30], nothing, Dict{String,Array{UInt8,1}}(), nothing, Dict{String,MeshCat.SceneTrees.SceneNode}()),\"level14.0\" => MeshCat.SceneTrees.SceneNode(UInt8[0x83, 0xa6, 0x6f, 0x62, 0x6a, 0x65, 0x63, 0x74, 0x84, 0xaa  …  0x2f, 0x6c, 0x65, 0x76, 0x65, 0x6c, 0x31, 0x34, 0x2e, 0x30], nothing, Dict{String,Array{UInt8,1}}(), nothing, Dict{String,MeshCat.SceneTrees.SceneNode}())…)))))))), Set(Any[WebSocket(server, \u001b[32mCONNECTED\u001b[39m), WebSocket(server, \u001b[32mCONNECTED\u001b[39m), WebSocket(server, \u001b[32mCONNECTED\u001b[39m)]), ip\"127.0.0.1\", 8700))"
      ]
     },
     "execution_count": 7,
     "metadata": {},
     "output_type": "execute_result"
    }
   ],
   "source": [
    "\n",
    "## Computing values of function at vertices\n",
    "f(x,y,z) = 3(x^2+y^2+z/18)\n",
    "x = ps[:,1]\n",
    "y = ps[:,2]\n",
    "z = ps[:,3]\n",
    "vals = f.(x,y,z)\n",
    "\n",
    "# Computing level curves\n",
    "levels_es = [] # In here we store the edges for the different levels\n",
    "levels_ls = [] # In here we store the value of the level\n",
    "\n",
    "for level in 1.0:1.0:16.0 # levels between 0.1 and 16.0 stepping 1.0 units\n",
    "    push!(levels_es,levelcurve(ps, ts, vals,level))\n",
    "    push!(levels_ls,level)\n",
    "end\n",
    "\n",
    "delete!(vis[\"m2dG\"][\"levels\"]) # Clearing graphics\n",
    "\n",
    "for i in 1:length(levels_ls)\n",
    "    les = levels_es[i]\n",
    "    level = levels_ls[i]\n",
    "    esG = edges3d(les,color=RGBA(1,1,0,1),linewidth=2)\n",
    "    setobject!(vis[\"m2dG\"][\"levels\"][string(\"level\",level)],esG)\n",
    "end\n",
    "\n",
    "render(vis)"
   ]
  },
  {
   "cell_type": "code",
   "execution_count": null,
   "metadata": {},
   "outputs": [],
   "source": []
  }
 ],
 "metadata": {
  "kernelspec": {
   "display_name": "Julia 1.5.3",
   "language": "julia",
   "name": "julia-1.5"
  },
  "language_info": {
   "file_extension": ".jl",
   "mimetype": "application/julia",
   "name": "julia",
   "version": "1.5.3"
  }
 },
 "nbformat": 4,
 "nbformat_minor": 4
}
